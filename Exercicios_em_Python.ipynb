{
  "nbformat": 4,
  "nbformat_minor": 0,
  "metadata": {
    "colab": {
      "provenance": []
    },
    "kernelspec": {
      "name": "python3",
      "display_name": "Python 3"
    },
    "language_info": {
      "name": "python"
    }
  },
  "cells": [
    {
      "cell_type": "markdown",
      "metadata": {
        "id": "IzRqTRpb_Sii"
      },
      "source": [
        "# Lista de Exercícios - Logica de Programacao em Python"
      ]
    },
    {
      "cell_type": "markdown",
      "source": [
        "# Exercício 1:\n",
        "\n",
        "Faça um programa, definindo uma função, para calcular a temperatura em graus Celsius a partir de uma temperatura em graus Farenheit.\n",
        "\n",
        "\\begin{equation}\n",
        "    T_c=5(T_f-32)/9\n",
        "\\end{equation}"
      ],
      "metadata": {
        "id": "WCy9NQmc0hXM"
      }
    },
    {
      "cell_type": "code",
      "source": [
        "def farentocel(faren):\n",
        "  celsius = (5*(faren-32))/9\n",
        "  celsius = float(celsius)\n",
        "  return celsius\n",
        "\n",
        "temp = farentocel(200)\n",
        "print(f\"{temp:.4f}\")"
      ],
      "metadata": {
        "id": "sUXAfu0s0iXp",
        "colab": {
          "base_uri": "https://localhost:8080/"
        },
        "outputId": "4639d3ac-351c-4b93-d976-8c6636bebb89"
      },
      "execution_count": null,
      "outputs": [
        {
          "output_type": "stream",
          "name": "stdout",
          "text": [
            "93.3333\n"
          ]
        }
      ]
    },
    {
      "cell_type": "markdown",
      "source": [
        "# Exercício 2:\n",
        "\n",
        "Faça um programa, definindo uma função, para calcular a média final alcançada por um aluno e apresentar:\n",
        "\n",
        "1. A mensagem \"Aprovado\", se a média for maior ou igual a 7, com o respectivo valor da média;<br>\n",
        "2. A mensagem \"Reprovado\", se a média for menor do que 7, com o respectivo valor da média;<br>\n",
        "3. A mensagem \"Aprovado com Distinção\", se a média for igual a 10.\n",
        "\n",
        "Dica: Suponha que as notas desse aluno estejam em uma lista (Não é a única forma de fazer)."
      ],
      "metadata": {
        "id": "4mjFWOKD0lBV"
      }
    },
    {
      "cell_type": "code",
      "source": [
        "import statistics\n",
        "notas = [10,10,10,10,10]\n",
        "media = statistics.mean(notas)\n",
        "\n",
        "if media == 10:\n",
        "  print('Aprovado com Distinção')\n",
        "\n",
        "elif media >= 7 < 10:\n",
        "  print('Aprovado')\n",
        "\n",
        "elif media < 7:\n",
        "  print('Reprovado')"
      ],
      "metadata": {
        "id": "liJOCbO-2siE",
        "colab": {
          "base_uri": "https://localhost:8080/"
        },
        "outputId": "3dff7a96-053b-4a06-c802-93e55c2d3b24"
      },
      "execution_count": null,
      "outputs": [
        {
          "output_type": "stream",
          "name": "stdout",
          "text": [
            "Aprovado com Distinção\n"
          ]
        }
      ]
    },
    {
      "cell_type": "markdown",
      "source": [
        "# Exercício 3:\n",
        "\n",
        "Você foi contratado por uma padaria para desenvolver um programa para montar a tabela digital de preços de pães, de 1 até 50 pães. Essa tabela deve ser atualizada diariamente a partir do preço do pão informado pelo gerente, conforme o exemplo abaixo:\n",
        "\n",
        "Número de pães | Preço (R\\$)\n",
        "---------------|------------\n",
        "1              | 0.18\n",
        "2              | 0.36\n",
        "$\\vdots$       | $\\vdots$\n",
        "50             | 9.00"
      ],
      "metadata": {
        "id": "ZRvPXzrL2u5Z"
      }
    },
    {
      "cell_type": "code",
      "source": [
        "valor_pao = 0.5\n",
        "# print('Número de pães | Preço (R\\$)\\n---------------|------------')\n",
        "\n",
        "numeropaes = []\n",
        "preco = []\n",
        "\n",
        "for i in range(1,50):\n",
        "  valoratual = valor_pao * i\n",
        "  # print(f'             {i} | {valoratual}')\n",
        "  numeropaes.append(i)\n",
        "  preco.append(valoratual)\n",
        "\n",
        "import pandas as pd\n",
        "paes = {'Número de Pães':numeropaes,\n",
        "        'Preço (R$)':preco}\n",
        "df = pd.DataFrame(paes)\n",
        "df"
      ],
      "metadata": {
        "colab": {
          "base_uri": "https://localhost:8080/",
          "height": 1000
        },
        "id": "-eDiw6vo__e2",
        "outputId": "e3857024-08a4-4227-a52d-399b26c32d4c"
      },
      "execution_count": null,
      "outputs": [
        {
          "output_type": "execute_result",
          "data": {
            "text/plain": [
              "    Número de Pães  Preço (R$)\n",
              "0                1         0.5\n",
              "1                2         1.0\n",
              "2                3         1.5\n",
              "3                4         2.0\n",
              "4                5         2.5\n",
              "5                6         3.0\n",
              "6                7         3.5\n",
              "7                8         4.0\n",
              "8                9         4.5\n",
              "9               10         5.0\n",
              "10              11         5.5\n",
              "11              12         6.0\n",
              "12              13         6.5\n",
              "13              14         7.0\n",
              "14              15         7.5\n",
              "15              16         8.0\n",
              "16              17         8.5\n",
              "17              18         9.0\n",
              "18              19         9.5\n",
              "19              20        10.0\n",
              "20              21        10.5\n",
              "21              22        11.0\n",
              "22              23        11.5\n",
              "23              24        12.0\n",
              "24              25        12.5\n",
              "25              26        13.0\n",
              "26              27        13.5\n",
              "27              28        14.0\n",
              "28              29        14.5\n",
              "29              30        15.0\n",
              "30              31        15.5\n",
              "31              32        16.0\n",
              "32              33        16.5\n",
              "33              34        17.0\n",
              "34              35        17.5\n",
              "35              36        18.0\n",
              "36              37        18.5\n",
              "37              38        19.0\n",
              "38              39        19.5\n",
              "39              40        20.0\n",
              "40              41        20.5\n",
              "41              42        21.0\n",
              "42              43        21.5\n",
              "43              44        22.0\n",
              "44              45        22.5\n",
              "45              46        23.0\n",
              "46              47        23.5\n",
              "47              48        24.0\n",
              "48              49        24.5"
            ],
            "text/html": [
              "\n",
              "  <div id=\"df-76851c0c-4cda-45d6-b186-04c041632197\" class=\"colab-df-container\">\n",
              "    <div>\n",
              "<style scoped>\n",
              "    .dataframe tbody tr th:only-of-type {\n",
              "        vertical-align: middle;\n",
              "    }\n",
              "\n",
              "    .dataframe tbody tr th {\n",
              "        vertical-align: top;\n",
              "    }\n",
              "\n",
              "    .dataframe thead th {\n",
              "        text-align: right;\n",
              "    }\n",
              "</style>\n",
              "<table border=\"1\" class=\"dataframe\">\n",
              "  <thead>\n",
              "    <tr style=\"text-align: right;\">\n",
              "      <th></th>\n",
              "      <th>Número de Pães</th>\n",
              "      <th>Preço (R$)</th>\n",
              "    </tr>\n",
              "  </thead>\n",
              "  <tbody>\n",
              "    <tr>\n",
              "      <th>0</th>\n",
              "      <td>1</td>\n",
              "      <td>0.5</td>\n",
              "    </tr>\n",
              "    <tr>\n",
              "      <th>1</th>\n",
              "      <td>2</td>\n",
              "      <td>1.0</td>\n",
              "    </tr>\n",
              "    <tr>\n",
              "      <th>2</th>\n",
              "      <td>3</td>\n",
              "      <td>1.5</td>\n",
              "    </tr>\n",
              "    <tr>\n",
              "      <th>3</th>\n",
              "      <td>4</td>\n",
              "      <td>2.0</td>\n",
              "    </tr>\n",
              "    <tr>\n",
              "      <th>4</th>\n",
              "      <td>5</td>\n",
              "      <td>2.5</td>\n",
              "    </tr>\n",
              "    <tr>\n",
              "      <th>5</th>\n",
              "      <td>6</td>\n",
              "      <td>3.0</td>\n",
              "    </tr>\n",
              "    <tr>\n",
              "      <th>6</th>\n",
              "      <td>7</td>\n",
              "      <td>3.5</td>\n",
              "    </tr>\n",
              "    <tr>\n",
              "      <th>7</th>\n",
              "      <td>8</td>\n",
              "      <td>4.0</td>\n",
              "    </tr>\n",
              "    <tr>\n",
              "      <th>8</th>\n",
              "      <td>9</td>\n",
              "      <td>4.5</td>\n",
              "    </tr>\n",
              "    <tr>\n",
              "      <th>9</th>\n",
              "      <td>10</td>\n",
              "      <td>5.0</td>\n",
              "    </tr>\n",
              "    <tr>\n",
              "      <th>10</th>\n",
              "      <td>11</td>\n",
              "      <td>5.5</td>\n",
              "    </tr>\n",
              "    <tr>\n",
              "      <th>11</th>\n",
              "      <td>12</td>\n",
              "      <td>6.0</td>\n",
              "    </tr>\n",
              "    <tr>\n",
              "      <th>12</th>\n",
              "      <td>13</td>\n",
              "      <td>6.5</td>\n",
              "    </tr>\n",
              "    <tr>\n",
              "      <th>13</th>\n",
              "      <td>14</td>\n",
              "      <td>7.0</td>\n",
              "    </tr>\n",
              "    <tr>\n",
              "      <th>14</th>\n",
              "      <td>15</td>\n",
              "      <td>7.5</td>\n",
              "    </tr>\n",
              "    <tr>\n",
              "      <th>15</th>\n",
              "      <td>16</td>\n",
              "      <td>8.0</td>\n",
              "    </tr>\n",
              "    <tr>\n",
              "      <th>16</th>\n",
              "      <td>17</td>\n",
              "      <td>8.5</td>\n",
              "    </tr>\n",
              "    <tr>\n",
              "      <th>17</th>\n",
              "      <td>18</td>\n",
              "      <td>9.0</td>\n",
              "    </tr>\n",
              "    <tr>\n",
              "      <th>18</th>\n",
              "      <td>19</td>\n",
              "      <td>9.5</td>\n",
              "    </tr>\n",
              "    <tr>\n",
              "      <th>19</th>\n",
              "      <td>20</td>\n",
              "      <td>10.0</td>\n",
              "    </tr>\n",
              "    <tr>\n",
              "      <th>20</th>\n",
              "      <td>21</td>\n",
              "      <td>10.5</td>\n",
              "    </tr>\n",
              "    <tr>\n",
              "      <th>21</th>\n",
              "      <td>22</td>\n",
              "      <td>11.0</td>\n",
              "    </tr>\n",
              "    <tr>\n",
              "      <th>22</th>\n",
              "      <td>23</td>\n",
              "      <td>11.5</td>\n",
              "    </tr>\n",
              "    <tr>\n",
              "      <th>23</th>\n",
              "      <td>24</td>\n",
              "      <td>12.0</td>\n",
              "    </tr>\n",
              "    <tr>\n",
              "      <th>24</th>\n",
              "      <td>25</td>\n",
              "      <td>12.5</td>\n",
              "    </tr>\n",
              "    <tr>\n",
              "      <th>25</th>\n",
              "      <td>26</td>\n",
              "      <td>13.0</td>\n",
              "    </tr>\n",
              "    <tr>\n",
              "      <th>26</th>\n",
              "      <td>27</td>\n",
              "      <td>13.5</td>\n",
              "    </tr>\n",
              "    <tr>\n",
              "      <th>27</th>\n",
              "      <td>28</td>\n",
              "      <td>14.0</td>\n",
              "    </tr>\n",
              "    <tr>\n",
              "      <th>28</th>\n",
              "      <td>29</td>\n",
              "      <td>14.5</td>\n",
              "    </tr>\n",
              "    <tr>\n",
              "      <th>29</th>\n",
              "      <td>30</td>\n",
              "      <td>15.0</td>\n",
              "    </tr>\n",
              "    <tr>\n",
              "      <th>30</th>\n",
              "      <td>31</td>\n",
              "      <td>15.5</td>\n",
              "    </tr>\n",
              "    <tr>\n",
              "      <th>31</th>\n",
              "      <td>32</td>\n",
              "      <td>16.0</td>\n",
              "    </tr>\n",
              "    <tr>\n",
              "      <th>32</th>\n",
              "      <td>33</td>\n",
              "      <td>16.5</td>\n",
              "    </tr>\n",
              "    <tr>\n",
              "      <th>33</th>\n",
              "      <td>34</td>\n",
              "      <td>17.0</td>\n",
              "    </tr>\n",
              "    <tr>\n",
              "      <th>34</th>\n",
              "      <td>35</td>\n",
              "      <td>17.5</td>\n",
              "    </tr>\n",
              "    <tr>\n",
              "      <th>35</th>\n",
              "      <td>36</td>\n",
              "      <td>18.0</td>\n",
              "    </tr>\n",
              "    <tr>\n",
              "      <th>36</th>\n",
              "      <td>37</td>\n",
              "      <td>18.5</td>\n",
              "    </tr>\n",
              "    <tr>\n",
              "      <th>37</th>\n",
              "      <td>38</td>\n",
              "      <td>19.0</td>\n",
              "    </tr>\n",
              "    <tr>\n",
              "      <th>38</th>\n",
              "      <td>39</td>\n",
              "      <td>19.5</td>\n",
              "    </tr>\n",
              "    <tr>\n",
              "      <th>39</th>\n",
              "      <td>40</td>\n",
              "      <td>20.0</td>\n",
              "    </tr>\n",
              "    <tr>\n",
              "      <th>40</th>\n",
              "      <td>41</td>\n",
              "      <td>20.5</td>\n",
              "    </tr>\n",
              "    <tr>\n",
              "      <th>41</th>\n",
              "      <td>42</td>\n",
              "      <td>21.0</td>\n",
              "    </tr>\n",
              "    <tr>\n",
              "      <th>42</th>\n",
              "      <td>43</td>\n",
              "      <td>21.5</td>\n",
              "    </tr>\n",
              "    <tr>\n",
              "      <th>43</th>\n",
              "      <td>44</td>\n",
              "      <td>22.0</td>\n",
              "    </tr>\n",
              "    <tr>\n",
              "      <th>44</th>\n",
              "      <td>45</td>\n",
              "      <td>22.5</td>\n",
              "    </tr>\n",
              "    <tr>\n",
              "      <th>45</th>\n",
              "      <td>46</td>\n",
              "      <td>23.0</td>\n",
              "    </tr>\n",
              "    <tr>\n",
              "      <th>46</th>\n",
              "      <td>47</td>\n",
              "      <td>23.5</td>\n",
              "    </tr>\n",
              "    <tr>\n",
              "      <th>47</th>\n",
              "      <td>48</td>\n",
              "      <td>24.0</td>\n",
              "    </tr>\n",
              "    <tr>\n",
              "      <th>48</th>\n",
              "      <td>49</td>\n",
              "      <td>24.5</td>\n",
              "    </tr>\n",
              "  </tbody>\n",
              "</table>\n",
              "</div>\n",
              "    <div class=\"colab-df-buttons\">\n",
              "\n",
              "  <div class=\"colab-df-container\">\n",
              "    <button class=\"colab-df-convert\" onclick=\"convertToInteractive('df-76851c0c-4cda-45d6-b186-04c041632197')\"\n",
              "            title=\"Convert this dataframe to an interactive table.\"\n",
              "            style=\"display:none;\">\n",
              "\n",
              "  <svg xmlns=\"http://www.w3.org/2000/svg\" height=\"24px\" viewBox=\"0 -960 960 960\">\n",
              "    <path d=\"M120-120v-720h720v720H120Zm60-500h600v-160H180v160Zm220 220h160v-160H400v160Zm0 220h160v-160H400v160ZM180-400h160v-160H180v160Zm440 0h160v-160H620v160ZM180-180h160v-160H180v160Zm440 0h160v-160H620v160Z\"/>\n",
              "  </svg>\n",
              "    </button>\n",
              "\n",
              "  <style>\n",
              "    .colab-df-container {\n",
              "      display:flex;\n",
              "      gap: 12px;\n",
              "    }\n",
              "\n",
              "    .colab-df-convert {\n",
              "      background-color: #E8F0FE;\n",
              "      border: none;\n",
              "      border-radius: 50%;\n",
              "      cursor: pointer;\n",
              "      display: none;\n",
              "      fill: #1967D2;\n",
              "      height: 32px;\n",
              "      padding: 0 0 0 0;\n",
              "      width: 32px;\n",
              "    }\n",
              "\n",
              "    .colab-df-convert:hover {\n",
              "      background-color: #E2EBFA;\n",
              "      box-shadow: 0px 1px 2px rgba(60, 64, 67, 0.3), 0px 1px 3px 1px rgba(60, 64, 67, 0.15);\n",
              "      fill: #174EA6;\n",
              "    }\n",
              "\n",
              "    .colab-df-buttons div {\n",
              "      margin-bottom: 4px;\n",
              "    }\n",
              "\n",
              "    [theme=dark] .colab-df-convert {\n",
              "      background-color: #3B4455;\n",
              "      fill: #D2E3FC;\n",
              "    }\n",
              "\n",
              "    [theme=dark] .colab-df-convert:hover {\n",
              "      background-color: #434B5C;\n",
              "      box-shadow: 0px 1px 3px 1px rgba(0, 0, 0, 0.15);\n",
              "      filter: drop-shadow(0px 1px 2px rgba(0, 0, 0, 0.3));\n",
              "      fill: #FFFFFF;\n",
              "    }\n",
              "  </style>\n",
              "\n",
              "    <script>\n",
              "      const buttonEl =\n",
              "        document.querySelector('#df-76851c0c-4cda-45d6-b186-04c041632197 button.colab-df-convert');\n",
              "      buttonEl.style.display =\n",
              "        google.colab.kernel.accessAllowed ? 'block' : 'none';\n",
              "\n",
              "      async function convertToInteractive(key) {\n",
              "        const element = document.querySelector('#df-76851c0c-4cda-45d6-b186-04c041632197');\n",
              "        const dataTable =\n",
              "          await google.colab.kernel.invokeFunction('convertToInteractive',\n",
              "                                                    [key], {});\n",
              "        if (!dataTable) return;\n",
              "\n",
              "        const docLinkHtml = 'Like what you see? Visit the ' +\n",
              "          '<a target=\"_blank\" href=https://colab.research.google.com/notebooks/data_table.ipynb>data table notebook</a>'\n",
              "          + ' to learn more about interactive tables.';\n",
              "        element.innerHTML = '';\n",
              "        dataTable['output_type'] = 'display_data';\n",
              "        await google.colab.output.renderOutput(dataTable, element);\n",
              "        const docLink = document.createElement('div');\n",
              "        docLink.innerHTML = docLinkHtml;\n",
              "        element.appendChild(docLink);\n",
              "      }\n",
              "    </script>\n",
              "  </div>\n",
              "\n",
              "\n",
              "<div id=\"df-2e5ccf66-ee5e-4536-9252-d894008765fb\">\n",
              "  <button class=\"colab-df-quickchart\" onclick=\"quickchart('df-2e5ccf66-ee5e-4536-9252-d894008765fb')\"\n",
              "            title=\"Suggest charts.\"\n",
              "            style=\"display:none;\">\n",
              "\n",
              "<svg xmlns=\"http://www.w3.org/2000/svg\" height=\"24px\"viewBox=\"0 0 24 24\"\n",
              "     width=\"24px\">\n",
              "    <g>\n",
              "        <path d=\"M19 3H5c-1.1 0-2 .9-2 2v14c0 1.1.9 2 2 2h14c1.1 0 2-.9 2-2V5c0-1.1-.9-2-2-2zM9 17H7v-7h2v7zm4 0h-2V7h2v10zm4 0h-2v-4h2v4z\"/>\n",
              "    </g>\n",
              "</svg>\n",
              "  </button>\n",
              "\n",
              "<style>\n",
              "  .colab-df-quickchart {\n",
              "      --bg-color: #E8F0FE;\n",
              "      --fill-color: #1967D2;\n",
              "      --hover-bg-color: #E2EBFA;\n",
              "      --hover-fill-color: #174EA6;\n",
              "      --disabled-fill-color: #AAA;\n",
              "      --disabled-bg-color: #DDD;\n",
              "  }\n",
              "\n",
              "  [theme=dark] .colab-df-quickchart {\n",
              "      --bg-color: #3B4455;\n",
              "      --fill-color: #D2E3FC;\n",
              "      --hover-bg-color: #434B5C;\n",
              "      --hover-fill-color: #FFFFFF;\n",
              "      --disabled-bg-color: #3B4455;\n",
              "      --disabled-fill-color: #666;\n",
              "  }\n",
              "\n",
              "  .colab-df-quickchart {\n",
              "    background-color: var(--bg-color);\n",
              "    border: none;\n",
              "    border-radius: 50%;\n",
              "    cursor: pointer;\n",
              "    display: none;\n",
              "    fill: var(--fill-color);\n",
              "    height: 32px;\n",
              "    padding: 0;\n",
              "    width: 32px;\n",
              "  }\n",
              "\n",
              "  .colab-df-quickchart:hover {\n",
              "    background-color: var(--hover-bg-color);\n",
              "    box-shadow: 0 1px 2px rgba(60, 64, 67, 0.3), 0 1px 3px 1px rgba(60, 64, 67, 0.15);\n",
              "    fill: var(--button-hover-fill-color);\n",
              "  }\n",
              "\n",
              "  .colab-df-quickchart-complete:disabled,\n",
              "  .colab-df-quickchart-complete:disabled:hover {\n",
              "    background-color: var(--disabled-bg-color);\n",
              "    fill: var(--disabled-fill-color);\n",
              "    box-shadow: none;\n",
              "  }\n",
              "\n",
              "  .colab-df-spinner {\n",
              "    border: 2px solid var(--fill-color);\n",
              "    border-color: transparent;\n",
              "    border-bottom-color: var(--fill-color);\n",
              "    animation:\n",
              "      spin 1s steps(1) infinite;\n",
              "  }\n",
              "\n",
              "  @keyframes spin {\n",
              "    0% {\n",
              "      border-color: transparent;\n",
              "      border-bottom-color: var(--fill-color);\n",
              "      border-left-color: var(--fill-color);\n",
              "    }\n",
              "    20% {\n",
              "      border-color: transparent;\n",
              "      border-left-color: var(--fill-color);\n",
              "      border-top-color: var(--fill-color);\n",
              "    }\n",
              "    30% {\n",
              "      border-color: transparent;\n",
              "      border-left-color: var(--fill-color);\n",
              "      border-top-color: var(--fill-color);\n",
              "      border-right-color: var(--fill-color);\n",
              "    }\n",
              "    40% {\n",
              "      border-color: transparent;\n",
              "      border-right-color: var(--fill-color);\n",
              "      border-top-color: var(--fill-color);\n",
              "    }\n",
              "    60% {\n",
              "      border-color: transparent;\n",
              "      border-right-color: var(--fill-color);\n",
              "    }\n",
              "    80% {\n",
              "      border-color: transparent;\n",
              "      border-right-color: var(--fill-color);\n",
              "      border-bottom-color: var(--fill-color);\n",
              "    }\n",
              "    90% {\n",
              "      border-color: transparent;\n",
              "      border-bottom-color: var(--fill-color);\n",
              "    }\n",
              "  }\n",
              "</style>\n",
              "\n",
              "  <script>\n",
              "    async function quickchart(key) {\n",
              "      const quickchartButtonEl =\n",
              "        document.querySelector('#' + key + ' button');\n",
              "      quickchartButtonEl.disabled = true;  // To prevent multiple clicks.\n",
              "      quickchartButtonEl.classList.add('colab-df-spinner');\n",
              "      try {\n",
              "        const charts = await google.colab.kernel.invokeFunction(\n",
              "            'suggestCharts', [key], {});\n",
              "      } catch (error) {\n",
              "        console.error('Error during call to suggestCharts:', error);\n",
              "      }\n",
              "      quickchartButtonEl.classList.remove('colab-df-spinner');\n",
              "      quickchartButtonEl.classList.add('colab-df-quickchart-complete');\n",
              "    }\n",
              "    (() => {\n",
              "      let quickchartButtonEl =\n",
              "        document.querySelector('#df-2e5ccf66-ee5e-4536-9252-d894008765fb button');\n",
              "      quickchartButtonEl.style.display =\n",
              "        google.colab.kernel.accessAllowed ? 'block' : 'none';\n",
              "    })();\n",
              "  </script>\n",
              "</div>\n",
              "    </div>\n",
              "  </div>\n"
            ]
          },
          "metadata": {},
          "execution_count": 55
        }
      ]
    },
    {
      "cell_type": "markdown",
      "source": [
        "# Exercício 4:\n",
        "\n",
        "Você foi contratado por uma agência de detetives para emitir uma classificação sobre a participação de pessoas suspeitas em um crime. Cada pessoa suspeita respondeu as seguintes perguntas:\n",
        "\n",
        "1. \"Você matou a vítima?\"<br>\n",
        "2. \"Você esteve com ela no dia de sua morte?\"<br>\n",
        "3. \"Você esteve no local do crime?\"<br>\n",
        "4. \"Você mora perto da vítima?\"<br>\n",
        "5. \"Você devia dinheiro para a vítima?\"<br>\n",
        "\n",
        "Considere que:\n",
        "\n",
        "1. Se uma pessoa responder positivamente a primeira pergunta, ela deve ser classificada como \"Assassina\";\n",
        "2. Se ela responder positivamente a 2 ou 3 questões (que não sejam a primeira), ela deve ser classificada como \"Suspeita\";\n",
        "3. Se ela responder positivamente a 4 questões (que não sejam a primeira), ela deve ser classificada como \"Cúmplice\";\n",
        "4. Caso contrário, ela será classificada como \"Inocente\"."
      ],
      "metadata": {
        "id": "wx9U-z842xFz"
      }
    },
    {
      "cell_type": "code",
      "source": [
        "def crime():\n",
        "  matou = input('Você matou a vítima? (Sim/Não)')\n",
        "  if matou == 'Sim':\n",
        "    return 'Assasina'\n",
        "  esteve = input('Você esteve com ela no dia de sua morte? (Sim/Não)')\n",
        "  local = input('Você esteve no local do crime? (Sim/Não)')\n",
        "  mora = input('Você mora perto da vítima? (Sim/Não)')\n",
        "  dinheiro = input('Você devia dinheiro para a vítima? (Sim/Não)')\n",
        "\n",
        "  respostas = [esteve, local, mora, dinheiro]\n",
        "  total = respostas.count('Sim')\n",
        "\n",
        "  if total >= 2 and total < 4:\n",
        "    return 'Suspeita'\n",
        "  elif total >= 4:\n",
        "    return 'Cúmplice'\n",
        "  else:\n",
        "    return 'Inocente'\n",
        "\n",
        "crime()"
      ],
      "metadata": {
        "id": "7lnn_oMF2xjj",
        "colab": {
          "base_uri": "https://localhost:8080/",
          "height": 122
        },
        "outputId": "526d2074-3a9f-4c8e-e3ca-787f3822ec06"
      },
      "execution_count": null,
      "outputs": [
        {
          "name": "stdout",
          "output_type": "stream",
          "text": [
            "Você matou a vítima? (Sim/Não)Não\n",
            "Você esteve com ela no dia de sua morte? (Sim/Não)Não\n",
            "Você esteve no local do crime? (Sim/Não)Não\n",
            "Você mora perto da vítima? (Sim/Não)Sim\n",
            "Você devia dinheiro para a vítima? (Sim/Não)Sim\n"
          ]
        },
        {
          "output_type": "execute_result",
          "data": {
            "text/plain": [
              "'Suspeita'"
            ],
            "application/vnd.google.colaboratory.intrinsic+json": {
              "type": "string"
            }
          },
          "metadata": {},
          "execution_count": 79
        }
      ]
    },
    {
      "cell_type": "markdown",
      "source": [
        "# Exercício 5:\n",
        "\n",
        "Você trabalha para um banco e quer fazer uma função pra decidir se aprova ou não o empréstimo bancário para a compra de uma casa. Dado o valor da casa, o salário do comprador e a quantidade de anos que será pago o empréstimo, diga se um trabalhador que foi pedir empréstimo no seu banco vai receber o dinheiro ou não. Considere que a prestação mensal não pode exceder 30% do salário do comprador para aprovação."
      ],
      "metadata": {
        "id": "Fzw9fGOk2zbY"
      }
    },
    {
      "cell_type": "code",
      "source": [
        "casa = float(input('Valor da Casa = '))\n",
        "tempo = int(input('Quantidade de Parcelas = '))\n",
        "salario = float(input('Renda/Salário Mensal = '))\n",
        "\n",
        "emprest = casa / tempo\n",
        "def valor_emprestimo (emprest):\n",
        "   if emprest <= (salario*0.3):\n",
        "    return 'Aprovado'\n",
        "   else:\n",
        "    return 'Reprovado'\n",
        "valor_emprestimo(emprest)"
      ],
      "metadata": {
        "id": "ydUlmM8W2z1W",
        "colab": {
          "base_uri": "https://localhost:8080/",
          "height": 87
        },
        "outputId": "c2f7028d-3eee-45aa-942b-c2902dc68bb4"
      },
      "execution_count": null,
      "outputs": [
        {
          "name": "stdout",
          "output_type": "stream",
          "text": [
            "Valor da Casa = 140000\n",
            "Quantidade de Parcelas = 360\n",
            "Renda/Salário Mensal = 3000\n"
          ]
        },
        {
          "output_type": "execute_result",
          "data": {
            "text/plain": [
              "'Aprovado'"
            ],
            "application/vnd.google.colaboratory.intrinsic+json": {
              "type": "string"
            }
          },
          "metadata": {},
          "execution_count": 42
        }
      ]
    },
    {
      "cell_type": "markdown",
      "source": [
        "# Exercício 6:\n",
        "\n",
        "Faça uma função para gerar os $n$ ($n\\ge3$) primeiros elementos da sequência de Fibonacci, supondo que o primeiro e o segundo elemento seja 0 e 1, respectivamente."
      ],
      "metadata": {
        "id": "zd7VUZq421M0"
      }
    },
    {
      "cell_type": "code",
      "source": [
        "def fibo(n):\n",
        "# primeiro numero 0\n",
        "  if n == 1:\n",
        "    return 0\n",
        "# segundo numero 1\n",
        "  elif n == 2:\n",
        "    return 1\n",
        "# terceiro numero (n-1)+(n-2)\n",
        "  else:\n",
        "    return fibo(n-1) + fibo(n-2)\n",
        "\n",
        "numero = int(input('Número = '))\n",
        "for i in range(1, numero+1):\n",
        "  print(fibo(i))"
      ],
      "metadata": {
        "id": "aFHUQCjJ21kW",
        "colab": {
          "base_uri": "https://localhost:8080/"
        },
        "outputId": "1c4921ae-b7f1-433d-f2d1-c1197cba2c8c"
      },
      "execution_count": null,
      "outputs": [
        {
          "output_type": "stream",
          "name": "stdout",
          "text": [
            "Número = 10\n",
            "0\n",
            "1\n",
            "1\n",
            "2\n",
            "3\n",
            "5\n",
            "8\n",
            "13\n",
            "21\n",
            "34\n"
          ]
        }
      ]
    },
    {
      "cell_type": "markdown",
      "source": [
        "# Exercício 7:\n",
        "\n",
        "Elabore um algoritmo que mova três discos de uma torre de Hanói, que consiste em três hastes (a, b e c), uma das quais server de suporte para três discos de tamanhos diferentes (1, 2 e 3), os menores sobre os maiores. Pode-se mover um disco de cada vez para qualquer haste, contanto que nunca seja colocado um disco maior sobre um menor. O objetivo é transferir os três discos para outra haste.\n",
        "\n",
        "![picture](https://drive.google.com/thumbnail?id=1VzYDGLb7z0unTKRFPO405PopKe8pVYZP&sz=w600)"
      ],
      "metadata": {
        "id": "vf5iqzAI2-bs"
      }
    },
    {
      "cell_type": "code",
      "source": [
        "discos = 4\n",
        "movimentos = 2**discos - 1\n",
        "print('Número de Jogadas:',movimentos)\n",
        "\n",
        "# def movimentos(d):\n",
        "#   if d == 0:\n",
        "#     return 'Sem Jogadas'\n",
        "#   return 2**d - 1\n",
        "\n",
        "# # discos = int(input('Número de Discos = '))\n",
        "# movimentos(discos)\n",
        "\n",
        "torre1 = [3,2,1]\n",
        "torre2 = []\n",
        "torre3 = []\n",
        "print('Inicio do Jogo ','Torre 1 ',torre1,'Torre 2 ',torre2,'Torre 3 ',torre3)\n",
        "torre3.append(torre1[2])\n",
        "torre1.pop(2)\n",
        "print('1° Jogada','Torre 1 ',torre1,'Torre 2 ',torre2,'Torre 3 ',torre3)\n",
        "torre2.append(torre1[1])\n",
        "torre1.pop(1)\n",
        "print('2° Jogada','Torre 1 ',torre1,'Torre 2 ',torre2,'Torre 3 ',torre3)\n",
        "torre2.append(torre3[0])\n",
        "torre3.pop(0)\n",
        "print('3° Jogada','Torre 1 ',torre1,'Torre 2 ',torre2,'Torre 3 ',torre3)\n",
        "torre3.append(torre1[0])\n",
        "torre1.pop(0)\n",
        "print('4° Jogada','Torre 1 ',torre1,'Torre 2 ',torre2,'Torre 3 ',torre3)\n",
        "torre1.append(torre2[1])\n",
        "torre2.pop(1)\n",
        "print('5° Jogada','Torre 1 ',torre1,'Torre 2 ',torre2,'Torre 3 ',torre3)\n",
        "torre3.append(torre2[0])\n",
        "torre2.pop(0)\n",
        "print('6° Jogada','Torre 1 ',torre1,'Torre 2 ',torre2,'Torre 3 ',torre3)\n",
        "torre3.append(torre1[0])\n",
        "torre1.pop(0)\n",
        "print('7° Jogada','Torre 1 ',torre1,'Torre 2 ',torre2,'Torre 3 ',torre3)\n",
        "print('Fim das Jogadas')"
      ],
      "metadata": {
        "id": "cqe9IsgE2-5n",
        "colab": {
          "base_uri": "https://localhost:8080/"
        },
        "outputId": "f0505d29-29b5-480a-e1b9-43e5a94ab0b0"
      },
      "execution_count": null,
      "outputs": [
        {
          "output_type": "stream",
          "name": "stdout",
          "text": [
            "Número de Jogadas: 15\n",
            "Inicio do Jogo  Torre 1  [3, 2, 1] Torre 2  [] Torre 3  []\n",
            "1° Jogada Torre 1  [3, 2] Torre 2  [] Torre 3  [1]\n",
            "2° Jogada Torre 1  [3] Torre 2  [2] Torre 3  [1]\n",
            "3° Jogada Torre 1  [3] Torre 2  [2, 1] Torre 3  []\n",
            "4° Jogada Torre 1  [] Torre 2  [2, 1] Torre 3  [3]\n",
            "5° Jogada Torre 1  [1] Torre 2  [2] Torre 3  [3]\n",
            "6° Jogada Torre 1  [1] Torre 2  [] Torre 3  [3, 2]\n",
            "7° Jogada Torre 1  [] Torre 2  [] Torre 3  [3, 2, 1]\n",
            "Fim das Jogadas\n"
          ]
        }
      ]
    },
    {
      "cell_type": "markdown",
      "source": [
        "# Exercício 8:\n",
        "\n",
        "Elabore um código que calcule $N!$ (fatorial de $N$), sendo que o valor inteiro de $N$ é fornecido.\n",
        "\n",
        "Sabendo que:\n",
        "\n",
        "- $N! = 1 \\times 2 \\times 3 \\times \\dots \\times (N-1) \\times N$;\n",
        "\n",
        "- $0! = 1$, por definição."
      ],
      "metadata": {
        "id": "gODb3PN73CYY"
      }
    },
    {
      "cell_type": "code",
      "source": [
        "def fatorialn (num):\n",
        "  if num == 0:\n",
        "    return 1\n",
        "  return num * fatorialn(num-1)\n",
        "\n",
        "n = int(input('Número = '))\n",
        "fatorialn(n)"
      ],
      "metadata": {
        "id": "jsqJAuwI3C2V",
        "colab": {
          "base_uri": "https://localhost:8080/"
        },
        "outputId": "c6d923a0-a624-4182-f505-3830f0e2b9a9"
      },
      "execution_count": null,
      "outputs": [
        {
          "name": "stdout",
          "output_type": "stream",
          "text": [
            "Número = 5\n"
          ]
        },
        {
          "output_type": "execute_result",
          "data": {
            "text/plain": [
              "120"
            ]
          },
          "metadata": {},
          "execution_count": 61
        }
      ]
    },
    {
      "cell_type": "markdown",
      "source": [
        "# Exercício 9:\n",
        "\n",
        "Prepare um código que calcule o valor de $H$, sendo que ele é determinado pela série:\n",
        "\n",
        "$H = 1/1 + 3/2 + 5/3 + 7/4 + \\dots +99/50$"
      ],
      "metadata": {
        "id": "W7ZpiHgf3Flg"
      }
    },
    {
      "cell_type": "code",
      "source": [
        "def calculo():\n",
        "  h = 0\n",
        "  for i in range(1,51):\n",
        "    h = h + ((i*2)-1)/i\n",
        "  return h\n",
        "calculo()"
      ],
      "metadata": {
        "id": "Uopd0XhC3GJV",
        "colab": {
          "base_uri": "https://localhost:8080/"
        },
        "outputId": "4bb3b130-ea09-49ba-c82f-e06c25e313ac"
      },
      "execution_count": null,
      "outputs": [
        {
          "output_type": "execute_result",
          "data": {
            "text/plain": [
              "95.5007946616706"
            ]
          },
          "metadata": {},
          "execution_count": 52
        }
      ]
    },
    {
      "cell_type": "markdown",
      "source": [
        "# Exercício 10:\n",
        "\n",
        "Anacleto tem 1,50 metro e cresce 2 centímetros por ano, enquanto Felisberto tem 1,10 metro e cresce 3 centímetros por ano. Construa um código que calcule e imprima quantos anos serão necessários para que Felisberto seja maior que Anacleto."
      ],
      "metadata": {
        "id": "xiKYL-ic3If5"
      }
    },
    {
      "cell_type": "code",
      "source": [
        "anacleto = 1.5\n",
        "felisberto = 1.1\n",
        "tempo = 0\n",
        "\n",
        "while felisberto < anacleto:\n",
        "  anacleto = 0.02 + anacleto\n",
        "  felisberto = 0.03 + felisberto\n",
        "  tempo = 1 + tempo\n",
        "print(f'{tempo} anos')"
      ],
      "metadata": {
        "id": "gq2Ch65D3JWW",
        "colab": {
          "base_uri": "https://localhost:8080/"
        },
        "outputId": "628916d5-a7d6-42d4-d185-d93f8660d2c5"
      },
      "execution_count": null,
      "outputs": [
        {
          "output_type": "stream",
          "name": "stdout",
          "text": [
            "41 anos\n"
          ]
        }
      ]
    }
  ]
}